{
 "cells": [
  {
   "cell_type": "markdown",
   "id": "f168c120",
   "metadata": {},
   "source": [
    "ДЗ 1"
   ]
  },
  {
   "cell_type": "markdown",
   "id": "bcbaf96c",
   "metadata": {},
   "source": [
    "1)Сделайте так, чтобы число секунд отображалось в виде дни:часы:минуты:секунды."
   ]
  },
  {
   "cell_type": "code",
   "execution_count": 50,
   "id": "60381bf1",
   "metadata": {
    "scrolled": true
   },
   "outputs": [
    {
     "name": "stdout",
     "output_type": "stream",
     "text": [
      "0:2:46:40\n"
     ]
    }
   ],
   "source": [
    "seconds = 10000\n",
    "days = seconds //86400\n",
    "hours = (seconds%86400) //3600\n",
    "minutes = ((seconds%86400) %3600) //60\n",
    "seconds = ((seconds%86400) %3600) %60\n",
    "print(days, hours, minutes, seconds, sep =\":\")"
   ]
  },
  {
   "cell_type": "markdown",
   "id": "d1aa9ccd",
   "metadata": {},
   "source": [
    "2)Напишите калькулятор который запрашивает на входе две переменные и знак, и в соответствии с знаком ( + - * / ) выводит результат"
   ]
  },
  {
   "cell_type": "code",
   "execution_count": 53,
   "id": "2e74a786",
   "metadata": {},
   "outputs": [
    {
     "name": "stdout",
     "output_type": "stream",
     "text": [
      "5\n",
      "4\n",
      "/\n",
      "1.25\n"
     ]
    }
   ],
   "source": [
    "number1 = int(input())\n",
    "number2 = int(input())\n",
    "operation = input()\n",
    "if operation == '+':\n",
    "    print (number1+number2)\n",
    "else:\n",
    "    if operation == '-':\n",
    "        print (number1-number2)\n",
    "    else:\n",
    "        if operation =='*':\n",
    "            print(number1*number2)\n",
    "        else:\n",
    "            if operation =='/':\n",
    "                print(number1/number2)"
   ]
  },
  {
   "cell_type": "code",
   "execution_count": null,
   "id": "77f5bc97",
   "metadata": {},
   "outputs": [],
   "source": []
  }
 ],
 "metadata": {
  "celltoolbar": "Отсутствует",
  "kernelspec": {
   "display_name": "Python 3 (ipykernel)",
   "language": "python",
   "name": "python3"
  },
  "language_info": {
   "codemirror_mode": {
    "name": "ipython",
    "version": 3
   },
   "file_extension": ".py",
   "mimetype": "text/x-python",
   "name": "python",
   "nbconvert_exporter": "python",
   "pygments_lexer": "ipython3",
   "version": "3.9.12"
  }
 },
 "nbformat": 4,
 "nbformat_minor": 5
}
